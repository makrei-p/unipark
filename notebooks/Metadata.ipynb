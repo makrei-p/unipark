{
 "cells": [
  {
   "cell_type": "markdown",
   "metadata": {},
   "source": [
    "# Evaluate Metdata columns"
   ]
  },
  {
   "cell_type": "code",
   "execution_count": null,
   "metadata": {},
   "outputs": [],
   "source": [
    "import os\n",
    "import json\n",
    "import pandas as pd\n",
    "from unipark import Preprocessor, CodeBookParser\n",
    "from unipark import MetadataManipulator as MdManipulator\n",
    "from unipark.utils.frame import get_finishers, get_pausers, get_nonstarters\n",
    "import matplotlib.pyplot as plt"
   ]
  },
  {
   "cell_type": "code",
   "execution_count": null,
   "metadata": {},
   "outputs": [],
   "source": [
    "# load the paths to the input CSV, codebook, and figures save directory from the paths.json file located in the same directory\n",
    "with open('paths.json') as f:\n",
    "    paths = json.load(f)\n",
    "input_csv = paths['input_csv']\n",
    "codebook_path = paths['codebook_path']\n",
    "figures_save_dir = paths['figures_save_dir_metadata']"
   ]
  },
  {
   "cell_type": "code",
   "execution_count": null,
   "metadata": {},
   "outputs": [],
   "source": [
    "if not os.path.exists(figures_save_dir):\n",
    "    os.makedirs(figures_save_dir)"
   ]
  },
  {
   "cell_type": "code",
   "execution_count": null,
   "metadata": {},
   "outputs": [],
   "source": [
    "cbp = CodeBookParser(codebook_path)\n",
    "\n",
    "codebook = cbp.get_codebook()\n",
    "page_name_by_id = {}\n",
    "for page in codebook['pages']:\n",
    "    page_name_by_id[page['id']] = page['title']\n",
    "    \n",
    "def to_named_page(x):\n",
    "    return page_name_by_id[str(x)] if str(x) in page_name_by_id else str(x)"
   ]
  },
  {
   "cell_type": "code",
   "execution_count": null,
   "metadata": {},
   "outputs": [],
   "source": [
    "pproc = Preprocessor(pd.read_csv(input_csv,sep=\";\"))\n",
    "pproc.apply_manipulator(MdManipulator())\n",
    "pproc.drop_removable()"
   ]
  },
  {
   "cell_type": "code",
   "execution_count": null,
   "metadata": {},
   "outputs": [],
   "source": [
    "data = pproc.data\n",
    "md = pproc.get_metadata()"
   ]
  },
  {
   "cell_type": "markdown",
   "metadata": {},
   "source": [
    "## Participant count"
   ]
  },
  {
   "cell_type": "code",
   "execution_count": null,
   "metadata": {},
   "outputs": [],
   "source": [
    "print(\"Total participants:\\t{}\".format(len(md)))\n",
    "print(\"\\tfinished:\\t{}\".format(len(get_finishers(md))))\n",
    "print(\"\\tpaused:\\t\\t{}\".format(len(get_pausers(md))))\n",
    "print(\"\\tunstarted:\\t{}\".format(len(get_nonstarters(md))))"
   ]
  },
  {
   "cell_type": "code",
   "execution_count": null,
   "metadata": {},
   "outputs": [],
   "source": [
    "dispcodes = data[\"dispcode_named\"].value_counts().sort_index()\n",
    "print(dispcodes)\n",
    "dispcodes.plot.pie()"
   ]
  },
  {
   "cell_type": "markdown",
   "metadata": {},
   "source": [
    "## Pages paticipants stopped on"
   ]
  },
  {
   "cell_type": "code",
   "execution_count": null,
   "metadata": {
    "scrolled": true
   },
   "outputs": [],
   "source": [
    "ax = md[\"lastpage\"].value_counts().rename(index=to_named_page).sort_index(ascending=False).plot.pie()\n",
    "ax.set_title('Last page of participants')\n",
    "plt.savefig(os.path.join(figures_save_dir,'last_page_pie.png'), dpi=1200, bbox_inches='tight')"
   ]
  },
  {
   "cell_type": "markdown",
   "metadata": {},
   "source": [
    "### Those who paused stopped on page..."
   ]
  },
  {
   "cell_type": "code",
   "execution_count": null,
   "metadata": {},
   "outputs": [],
   "source": [
    "paused_on_page = get_pausers(md)[\"lastpage\"].value_counts().rename(index=to_named_page).sort_index()\n",
    "if len(paused_on_page) > 0:\n",
    "    print(paused_on_page)\n",
    "    ax = paused_on_page.plot.bar(legend=True)\n",
    "    ax.set_title('#Participants who stopped on page')\n",
    "    plt.savefig(os.path.join(figures_save_dir,'page_stopped_bar.png'), dpi=1200, bbox_inches='tight')\n",
    "else:\n",
    "    print('No pausers contained in this dataset')"
   ]
  },
  {
   "cell_type": "markdown",
   "metadata": {},
   "source": [
    "## Platform distribution"
   ]
  },
  {
   "cell_type": "code",
   "execution_count": null,
   "metadata": {},
   "outputs": [],
   "source": [
    "pf = data['platform']\n",
    "pff = get_finishers(data)['platform']\n",
    "vcs = pd.DataFrame.from_dict({'all':pf.value_counts(), 'finishers':pff.value_counts()})\n",
    "vcs_rel = pd.DataFrame.from_dict({'all':pf.value_counts()/len(pf), 'fins':pff.value_counts()/len(pff)})\n",
    "ax = pf.value_counts().plot.pie()\n",
    "ax.set_title('OS usage of participants')\n",
    "plt.savefig(os.path.join(figures_save_dir,'os_distribution_pie.png'), dpi=1200, bbox_inches='tight')\n",
    "plt.show()\n",
    "ax = pff.value_counts().plot.pie()\n",
    "ax.set_title('OS usage of finishers')"
   ]
  },
  {
   "cell_type": "code",
   "execution_count": null,
   "metadata": {
    "scrolled": false
   },
   "outputs": [],
   "source": [
    "vcs = pd.DataFrame.from_dict({'all':pf.value_counts(), 'finishers':pff.value_counts()})\n",
    "vcs_rel = pd.DataFrame.from_dict({'all':pf.value_counts()/len(pf), 'finishers':pff.value_counts()/len(pff)})\n",
    "ax = vcs_rel.plot.bar()\n",
    "ax.set_title(\"Relative OS usage of participants\")\n",
    "plt.savefig(os.path.join(figures_save_dir,'os_distribution_bar.png'), dpi=1200, bbox_inches='tight')"
   ]
  },
  {
   "cell_type": "code",
   "execution_count": null,
   "metadata": {},
   "outputs": [],
   "source": [
    "data['platform'].value_counts()/len(data)"
   ]
  },
  {
   "cell_type": "code",
   "execution_count": null,
   "metadata": {},
   "outputs": [],
   "source": []
  }
 ],
 "metadata": {
  "kernelspec": {
   "display_name": "Python 3",
   "language": "python",
   "name": "python3"
  },
  "language_info": {
   "codemirror_mode": {
    "name": "ipython",
    "version": 3
   },
   "file_extension": ".py",
   "mimetype": "text/x-python",
   "name": "python",
   "nbconvert_exporter": "python",
   "pygments_lexer": "ipython3",
   "version": "3.7.9"
  }
 },
 "nbformat": 4,
 "nbformat_minor": 4
}
